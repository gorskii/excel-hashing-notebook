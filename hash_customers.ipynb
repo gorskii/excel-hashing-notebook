{
 "cells": [
  {
   "cell_type": "markdown",
   "id": "dfcc1e38",
   "metadata": {},
   "source": [
    "# Хеширование данных в таблице Excel\n",
    "\n",
    "## Описание задачи\n",
    "\n",
    "Рассмотрим хеширование данных на примере таблицы с покупателями:\n",
    "\n",
    "|Customer            |Name  |Comment|\n",
    "|--------------------|------|-------|\n",
    "|ivan@mail.ru        |Иван  |       |\n",
    "|company@business.com|      |       |\n",
    "|alexa@yandex.ru     |Саша  |       |\n",
    "\n",
    "В этой таблице есть поля **Customer**, **Name** и **Comment**. Колонка **Customer** содержит обязательные для идентификации данные — email-адрес.\n",
    "\n",
    "Хотим хешировать данные и получить таблицу следующего вида:\n",
    "\n",
    "|Customer            |Name  |Comment|hashed_CustomerName|\n",
    "|--------------------|------|-------|-------------------|\n",
    "|ivan@mail.ru        |Иван  ||6ba5e9539184c139f34451cb17b7d3e7d35eaab2f9937b73d1a3aabc899550ae|\n",
    "|company@business.com|      ||7f4b8deb0c3f9bc96d0335f993dcd42df4835394cf8ff8c478691f6a8c591cdb|\n",
    "|alexa@yandex.ru     |Саша  ||71f644bd737221da3271eff0edc946501b57cccd1812c7b3b4781ad4160cf72b|"
   ]
  },
  {
   "cell_type": "markdown",
   "id": "73fd7761",
   "metadata": {},
   "source": [
    "## Подготовка данных\n",
    "\n",
    "Подключаем библиотеки hashlib и pandas"
   ]
  },
  {
   "cell_type": "code",
   "execution_count": 1,
   "id": "16e32fd3",
   "metadata": {},
   "outputs": [],
   "source": [
    "import hashlib\n",
    "import pandas as pd"
   ]
  },
  {
   "cell_type": "markdown",
   "id": "7d460a9e",
   "metadata": {},
   "source": [
    "### Обязательные колонки\n",
    "\n",
    "Указываем через запятую список колонок, которые обязательны для идентификации покупателя. В нашем случае — **Customer**. Строки таблицы, в которых не заполнено хотя бы одно поле из этого списка, будут пропущены.\n",
    "\n",
    "*Это также могут быть колонки с номером телефона, логином или уникальным id. Таких колонок может быть несколько, но не меньше одной.*"
   ]
  },
  {
   "cell_type": "code",
   "execution_count": 2,
   "id": "d43dd12b",
   "metadata": {},
   "outputs": [],
   "source": [
    "required_columns = ['Customer']"
   ]
  },
  {
   "cell_type": "markdown",
   "id": "ccc7fee3",
   "metadata": {},
   "source": [
    "### Дополнительные колонки\n",
    "\n",
    "Указываем любые другие уникальные колонки, которые хотим включить в хеш. Для примера добавим поле **Name**.\n",
    "\n",
    "*Оставьте пустой список `[]`, если вам достаточно колонок из первого списка*"
   ]
  },
  {
   "cell_type": "code",
   "execution_count": 3,
   "id": "9e70010f",
   "metadata": {
    "scrolled": true
   },
   "outputs": [],
   "source": [
    "additional_columns = ['Name']"
   ]
  },
  {
   "cell_type": "markdown",
   "id": "112b35ea",
   "metadata": {},
   "source": [
    "### Загрузка данных из файла\n",
    "\n",
    "Читаем таблицу с покупателями. Данные счтываем как строки. Удаляем строки, если в них есть пустые или нераспознанные значения в обязательных колонках, и заменяем в оставшихся строках нераспознанные и пустые поля на пустые строки."
   ]
  },
  {
   "cell_type": "code",
   "execution_count": 4,
   "id": "7aea0a80",
   "metadata": {},
   "outputs": [],
   "source": [
    "df_customers = pd.read_excel('customers.xlsx', dtype=str).dropna(subset=required_columns).fillna('')"
   ]
  },
  {
   "cell_type": "markdown",
   "id": "2fbfb219",
   "metadata": {},
   "source": [
    "Можем посмотреть последние 5 строк, чтобы убедиться, что всё прочиталось.\n",
    "\n",
    "*Для просмотра первых N-строк используйте head(N)*"
   ]
  },
  {
   "cell_type": "code",
   "execution_count": 5,
   "id": "8f23d2fc",
   "metadata": {
    "scrolled": true
   },
   "outputs": [
    {
     "data": {
      "text/html": [
       "<div>\n",
       "<style scoped>\n",
       "    .dataframe tbody tr th:only-of-type {\n",
       "        vertical-align: middle;\n",
       "    }\n",
       "\n",
       "    .dataframe tbody tr th {\n",
       "        vertical-align: top;\n",
       "    }\n",
       "\n",
       "    .dataframe thead th {\n",
       "        text-align: right;\n",
       "    }\n",
       "</style>\n",
       "<table border=\"1\" class=\"dataframe\">\n",
       "  <thead>\n",
       "    <tr style=\"text-align: right;\">\n",
       "      <th></th>\n",
       "      <th>Customer</th>\n",
       "      <th>Name</th>\n",
       "      <th>Comment</th>\n",
       "    </tr>\n",
       "  </thead>\n",
       "  <tbody>\n",
       "    <tr>\n",
       "      <th>0</th>\n",
       "      <td>ivan@mail.ru</td>\n",
       "      <td>Иван</td>\n",
       "      <td></td>\n",
       "    </tr>\n",
       "    <tr>\n",
       "      <th>1</th>\n",
       "      <td>company@business.com</td>\n",
       "      <td></td>\n",
       "      <td></td>\n",
       "    </tr>\n",
       "    <tr>\n",
       "      <th>2</th>\n",
       "      <td>alexa@yandex.ru</td>\n",
       "      <td>Саша</td>\n",
       "      <td></td>\n",
       "    </tr>\n",
       "  </tbody>\n",
       "</table>\n",
       "</div>"
      ],
      "text/plain": [
       "               Customer  Name Comment\n",
       "0          ivan@mail.ru  Иван        \n",
       "1  company@business.com              \n",
       "2       alexa@yandex.ru  Саша        "
      ]
     },
     "execution_count": 5,
     "metadata": {},
     "output_type": "execute_result"
    }
   ],
   "source": [
    "df_customers.tail(5)"
   ]
  },
  {
   "cell_type": "markdown",
   "id": "9c08f4e9",
   "metadata": {},
   "source": [
    "## Хеширование\n",
    "\n",
    "Это наша хеширующая процедура. Она склеивает все переданные ей колонки в строке, вычисляет хеш sha256, и дописывает к целевому дата-фрейму новую колонку с результатами. Имя колонки будет составлено склейкой из названий колонок, по которым выполняется хеширование.\n",
    "\n",
    "*Можно выбрать другую хеш-функцию, заменив `hashlib.sha256(x)` на `hashlib.md5(x)` или любую другую, доступную в [hashlib](https://docs.python.org/3/library/hashlib.html)*\n"
   ]
  },
  {
   "cell_type": "code",
   "execution_count": 6,
   "id": "8b73dbe1",
   "metadata": {},
   "outputs": [],
   "source": [
    "def hash_data(source_df, destination_df, *column):\n",
    "    column_name = ''\n",
    "    destination_df['hashed_'+column_name.join(column)] = source_df[list(column)].sum(axis=1).str.encode('utf-8').apply(lambda x: (hashlib.sha256(x).hexdigest()))"
   ]
  },
  {
   "cell_type": "markdown",
   "id": "50bb855a",
   "metadata": {},
   "source": [
    "Вычисляем хеши для указанного ранее списка колонок. Здесь указан один и тот же дата-фрейм для источника и назначения, поэтому колонка с хешами добавится к исходным данным."
   ]
  },
  {
   "cell_type": "code",
   "execution_count": 7,
   "id": "bb359013",
   "metadata": {},
   "outputs": [],
   "source": [
    "hash_data(df_customers, df_customers, *required_columns, *additional_columns)"
   ]
  },
  {
   "cell_type": "markdown",
   "id": "07fe5870",
   "metadata": {},
   "source": [
    "Проверяем результат"
   ]
  },
  {
   "cell_type": "code",
   "execution_count": 8,
   "id": "28b496cd",
   "metadata": {
    "scrolled": true
   },
   "outputs": [
    {
     "data": {
      "text/html": [
       "<div>\n",
       "<style scoped>\n",
       "    .dataframe tbody tr th:only-of-type {\n",
       "        vertical-align: middle;\n",
       "    }\n",
       "\n",
       "    .dataframe tbody tr th {\n",
       "        vertical-align: top;\n",
       "    }\n",
       "\n",
       "    .dataframe thead th {\n",
       "        text-align: right;\n",
       "    }\n",
       "</style>\n",
       "<table border=\"1\" class=\"dataframe\">\n",
       "  <thead>\n",
       "    <tr style=\"text-align: right;\">\n",
       "      <th></th>\n",
       "      <th>Customer</th>\n",
       "      <th>Name</th>\n",
       "      <th>Comment</th>\n",
       "      <th>hashed_CustomerName</th>\n",
       "    </tr>\n",
       "  </thead>\n",
       "  <tbody>\n",
       "    <tr>\n",
       "      <th>0</th>\n",
       "      <td>ivan@mail.ru</td>\n",
       "      <td>Иван</td>\n",
       "      <td></td>\n",
       "      <td>6ba5e9539184c139f34451cb17b7d3e7d35eaab2f9937b...</td>\n",
       "    </tr>\n",
       "    <tr>\n",
       "      <th>1</th>\n",
       "      <td>company@business.com</td>\n",
       "      <td></td>\n",
       "      <td></td>\n",
       "      <td>7f4b8deb0c3f9bc96d0335f993dcd42df4835394cf8ff8...</td>\n",
       "    </tr>\n",
       "    <tr>\n",
       "      <th>2</th>\n",
       "      <td>alexa@yandex.ru</td>\n",
       "      <td>Саша</td>\n",
       "      <td></td>\n",
       "      <td>71f644bd737221da3271eff0edc946501b57cccd1812c7...</td>\n",
       "    </tr>\n",
       "  </tbody>\n",
       "</table>\n",
       "</div>"
      ],
      "text/plain": [
       "               Customer  Name Comment  \\\n",
       "0          ivan@mail.ru  Иван           \n",
       "1  company@business.com                 \n",
       "2       alexa@yandex.ru  Саша           \n",
       "\n",
       "                                 hashed_CustomerName  \n",
       "0  6ba5e9539184c139f34451cb17b7d3e7d35eaab2f9937b...  \n",
       "1  7f4b8deb0c3f9bc96d0335f993dcd42df4835394cf8ff8...  \n",
       "2  71f644bd737221da3271eff0edc946501b57cccd1812c7...  "
      ]
     },
     "execution_count": 8,
     "metadata": {},
     "output_type": "execute_result"
    }
   ],
   "source": [
    "df_customers.tail(5)"
   ]
  },
  {
   "cell_type": "markdown",
   "id": "32a66500",
   "metadata": {},
   "source": [
    "## Выгрузка\n",
    "\n",
    "Сохраняем результат в новую таблицу.\n",
    "\n",
    "*Если вы получили ошибку, скорее всего вы выгружаете таблицу в файл повторно. Закройте окно Excel, в котором открыт этот файл, и выполните этот шаг ещё раз.*"
   ]
  },
  {
   "cell_type": "code",
   "execution_count": 9,
   "id": "b507ab0b",
   "metadata": {},
   "outputs": [],
   "source": [
    "df_customers.to_excel('hashed_customers.xlsx')"
   ]
  }
 ],
 "metadata": {
  "kernelspec": {
   "display_name": "Python 3 (ipykernel)",
   "language": "python",
   "name": "python3"
  },
  "language_info": {
   "codemirror_mode": {
    "name": "ipython",
    "version": 3
   },
   "file_extension": ".py",
   "mimetype": "text/x-python",
   "name": "python",
   "nbconvert_exporter": "python",
   "pygments_lexer": "ipython3",
   "version": "3.9.7"
  }
 },
 "nbformat": 4,
 "nbformat_minor": 5
}
